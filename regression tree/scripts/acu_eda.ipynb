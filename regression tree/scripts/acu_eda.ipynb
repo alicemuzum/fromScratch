{
 "cells": [
  {
   "cell_type": "code",
   "execution_count": 1,
   "metadata": {},
   "outputs": [],
   "source": [
    "import pandas as pd\n",
    "import numpy as np\n",
    "pd.set_option('display.max_columns',100)\n",
    "pd.set_option('display.width',200)\n",
    "pd.set_option('display.max_rows',None)"
   ]
  },
  {
   "cell_type": "code",
   "execution_count": 2,
   "metadata": {},
   "outputs": [],
   "source": [
    "# df = pd.read_csv(\"../data/train.csv\")\n",
    "# df.head()\n",
    "# df[df['Electrical'].isna()]\n",
    "\n",
    "from pandas.api.types import is_string_dtype\n",
    "from pandas.api.types import is_numeric_dtype\n",
    "\n",
    "df = pd.read_csv(\"../data/test.csv\")\n",
    "for col in df:\n",
    "    if is_numeric_dtype(df[col]):\n",
    "        df[col].fillna(df[col].mean(),inplace=True) \n"
   ]
  },
  {
   "cell_type": "code",
   "execution_count": 14,
   "metadata": {},
   "outputs": [
    {
     "name": "stdout",
     "output_type": "stream",
     "text": [
      "['Alley', 'BsmtQual', 'BsmtCond', 'BsmtExposure', 'BsmtFinType1', 'BsmtFinType2', 'FireplaceQu', 'GarageType', 'GarageFinish', 'GarageQual', 'GarageCond', 'PoolQC', 'Fence', 'MiscFeature']\n"
     ]
    }
   ],
   "source": [
    "isnul = df.isnull().sum()\n",
    "gogo = []\n",
    "for idx, i in enumerate(isnul):\n",
    "    \n",
    "    if i > 0: gogo.append(isnul.index[idx])\n",
    "\n",
    "print(gogo)\n"
   ]
  },
  {
   "cell_type": "code",
   "execution_count": 4,
   "metadata": {},
   "outputs": [],
   "source": [
    "for col in gogo:\n",
    "    df.dropna(subset=[col],inplace=True)\n"
   ]
  },
  {
   "cell_type": "code",
   "execution_count": 16,
   "metadata": {},
   "outputs": [],
   "source": [
    "new_df = pd.get_dummies(df,columns=gogo,dummy_na=True)\n",
    "new_df.drop(\"Id\", axis= 1 ,inplace=True)\n",
    "new_df.to_pickle('../data/final_test.pkl')"
   ]
  },
  {
   "cell_type": "code",
   "execution_count": 17,
   "metadata": {},
   "outputs": [],
   "source": [
    "for i in new_df.isna().sum():\n",
    "    if i > 0 : print(i)"
   ]
  },
  {
   "cell_type": "code",
   "execution_count": 10,
   "metadata": {},
   "outputs": [
    {
     "name": "stdout",
     "output_type": "stream",
     "text": [
      "1329\n",
      "41\n",
      "42\n",
      "41\n",
      "39\n",
      "39\n",
      "718\n",
      "74\n",
      "76\n",
      "76\n",
      "76\n",
      "1431\n",
      "1144\n",
      "1384\n"
     ]
    }
   ],
   "source": [
    "for num in df.isna().sum():\n",
    "    if num != 0: print(num)   "
   ]
  },
  {
   "cell_type": "code",
   "execution_count": 8,
   "metadata": {},
   "outputs": [
    {
     "name": "stdout",
     "output_type": "stream",
     "text": [
      "5 14\n"
     ]
    }
   ],
   "source": [
    "from pandas.api.types import is_string_dtype\n",
    "from pandas.api.types import is_numeric_dtype\n",
    "\n",
    "#BasmtFinType1 NA ise BsmtFinSf1 0 olcak aynısı 2 için de geçerli\n",
    "#electricala bak\n",
    "#MasVnrArea 0 olmalı eğer type na ise\n",
    "#Garage  year 0 yap\n",
    "def impute(df,low_percent=True):\n",
    "    \n",
    "    nas = {}\n",
    "    prcntg = {}\n",
    "    for col in df:\n",
    "        na = df[col].isna()\n",
    "        nan = df[col][na]\n",
    "        count = len(nan)\n",
    "        if count != 0:\n",
    "            nas[col] = count\n",
    "            prcntg[col] = (count / 1460)\n",
    "\n",
    "            \n",
    "    high_perc_na = []\n",
    "    low_perc_na = []\n",
    "    prcntg_values = prcntg.values()\n",
    "    for idx,feature in enumerate(prcntg_values):\n",
    "        #index = list(prcntg_values).index(feature)\n",
    "        if feature > 0.30:\n",
    "            high_perc_na.append(list(prcntg.keys())[idx])\n",
    "        else:\n",
    "            low_perc_na.append(list(prcntg.keys())[idx])\n",
    "\n",
    "    \n",
    "    \n",
    "    for f in high_perc_na:\n",
    "        if is_string_dtype(df[f]):\n",
    "            df[f].fillna(value=\"NA\",inplace=True)\n",
    "        elif is_numeric_dtype(df[f]):\n",
    "            df[f].fillna(value=df[f].mean(),inplace=True)\n",
    "\n",
    "    if low_percent:\n",
    "        for f in low_perc_na:\n",
    "            if is_string_dtype(df[f]):\n",
    "                df[f].fillna(value=\"NA\",inplace=True)\n",
    "            elif is_numeric_dtype(df[f]):\n",
    "                df[f].fillna(value=df[f].mean(),inplace=True)\n",
    "\n",
    "    return df\n",
    "\n",
    "df = impute(df)\n"
   ]
  },
  {
   "cell_type": "code",
   "execution_count": 9,
   "metadata": {},
   "outputs": [
    {
     "data": {
      "text/html": [
       "<div>\n",
       "<style scoped>\n",
       "    .dataframe tbody tr th:only-of-type {\n",
       "        vertical-align: middle;\n",
       "    }\n",
       "\n",
       "    .dataframe tbody tr th {\n",
       "        vertical-align: top;\n",
       "    }\n",
       "\n",
       "    .dataframe thead th {\n",
       "        text-align: right;\n",
       "    }\n",
       "</style>\n",
       "<table border=\"1\" class=\"dataframe\">\n",
       "  <thead>\n",
       "    <tr style=\"text-align: right;\">\n",
       "      <th></th>\n",
       "      <th>Id</th>\n",
       "      <th>MSSubClass</th>\n",
       "      <th>MSZoning</th>\n",
       "      <th>LotFrontage</th>\n",
       "      <th>LotArea</th>\n",
       "      <th>Street</th>\n",
       "      <th>Alley</th>\n",
       "      <th>LotShape</th>\n",
       "      <th>LandContour</th>\n",
       "      <th>Utilities</th>\n",
       "      <th>LotConfig</th>\n",
       "      <th>LandSlope</th>\n",
       "      <th>Neighborhood</th>\n",
       "      <th>Condition1</th>\n",
       "      <th>Condition2</th>\n",
       "      <th>BldgType</th>\n",
       "      <th>HouseStyle</th>\n",
       "      <th>OverallQual</th>\n",
       "      <th>OverallCond</th>\n",
       "      <th>YearBuilt</th>\n",
       "      <th>YearRemodAdd</th>\n",
       "      <th>RoofStyle</th>\n",
       "      <th>RoofMatl</th>\n",
       "      <th>Exterior1st</th>\n",
       "      <th>Exterior2nd</th>\n",
       "      <th>MasVnrType</th>\n",
       "      <th>MasVnrArea</th>\n",
       "      <th>ExterQual</th>\n",
       "      <th>ExterCond</th>\n",
       "      <th>Foundation</th>\n",
       "      <th>BsmtQual</th>\n",
       "      <th>BsmtCond</th>\n",
       "      <th>BsmtExposure</th>\n",
       "      <th>BsmtFinType1</th>\n",
       "      <th>BsmtFinSF1</th>\n",
       "      <th>BsmtFinType2</th>\n",
       "      <th>BsmtFinSF2</th>\n",
       "      <th>BsmtUnfSF</th>\n",
       "      <th>TotalBsmtSF</th>\n",
       "      <th>Heating</th>\n",
       "      <th>HeatingQC</th>\n",
       "      <th>CentralAir</th>\n",
       "      <th>Electrical</th>\n",
       "      <th>1stFlrSF</th>\n",
       "      <th>2ndFlrSF</th>\n",
       "      <th>LowQualFinSF</th>\n",
       "      <th>GrLivArea</th>\n",
       "      <th>BsmtFullBath</th>\n",
       "      <th>BsmtHalfBath</th>\n",
       "      <th>FullBath</th>\n",
       "      <th>HalfBath</th>\n",
       "      <th>BedroomAbvGr</th>\n",
       "      <th>KitchenAbvGr</th>\n",
       "      <th>KitchenQual</th>\n",
       "      <th>TotRmsAbvGrd</th>\n",
       "      <th>Functional</th>\n",
       "      <th>Fireplaces</th>\n",
       "      <th>FireplaceQu</th>\n",
       "      <th>GarageType</th>\n",
       "      <th>GarageYrBlt</th>\n",
       "      <th>GarageFinish</th>\n",
       "      <th>GarageCars</th>\n",
       "      <th>GarageArea</th>\n",
       "      <th>GarageQual</th>\n",
       "      <th>GarageCond</th>\n",
       "      <th>PavedDrive</th>\n",
       "      <th>WoodDeckSF</th>\n",
       "      <th>OpenPorchSF</th>\n",
       "      <th>EnclosedPorch</th>\n",
       "      <th>3SsnPorch</th>\n",
       "      <th>ScreenPorch</th>\n",
       "      <th>PoolArea</th>\n",
       "      <th>PoolQC</th>\n",
       "      <th>Fence</th>\n",
       "      <th>MiscFeature</th>\n",
       "      <th>MiscVal</th>\n",
       "      <th>MoSold</th>\n",
       "      <th>YrSold</th>\n",
       "      <th>SaleType</th>\n",
       "      <th>SaleCondition</th>\n",
       "      <th>SalePrice</th>\n",
       "    </tr>\n",
       "  </thead>\n",
       "  <tbody>\n",
       "  </tbody>\n",
       "</table>\n",
       "</div>"
      ],
      "text/plain": [
       "Empty DataFrame\n",
       "Columns: [Id, MSSubClass, MSZoning, LotFrontage, LotArea, Street, Alley, LotShape, LandContour, Utilities, LotConfig, LandSlope, Neighborhood, Condition1, Condition2, BldgType, HouseStyle, OverallQual, OverallCond, YearBuilt, YearRemodAdd, RoofStyle, RoofMatl, Exterior1st, Exterior2nd, MasVnrType, MasVnrArea, ExterQual, ExterCond, Foundation, BsmtQual, BsmtCond, BsmtExposure, BsmtFinType1, BsmtFinSF1, BsmtFinType2, BsmtFinSF2, BsmtUnfSF, TotalBsmtSF, Heating, HeatingQC, CentralAir, Electrical, 1stFlrSF, 2ndFlrSF, LowQualFinSF, GrLivArea, BsmtFullBath, BsmtHalfBath, FullBath, HalfBath, BedroomAbvGr, KitchenAbvGr, KitchenQual, TotRmsAbvGrd, Functional, Fireplaces, FireplaceQu, GarageType, GarageYrBlt, GarageFinish, GarageCars, GarageArea, GarageQual, GarageCond, PavedDrive, WoodDeckSF, OpenPorchSF, EnclosedPorch, 3SsnPorch, ScreenPorch, PoolArea, PoolQC, Fence, MiscFeature, MiscVal, MoSold, YrSold, SaleType, SaleCondition, SalePrice]\n",
       "Index: []"
      ]
     },
     "execution_count": 9,
     "metadata": {},
     "output_type": "execute_result"
    }
   ],
   "source": [
    "# Remove the only row contains NA on 'electrical'\n",
    "df.drop(index=1379,inplace=True)\n",
    "df[df['Electrical'].isna()]"
   ]
  },
  {
   "cell_type": "code",
   "execution_count": 10,
   "metadata": {},
   "outputs": [],
   "source": [
    "# 259 df[df['LotFrontage'].isna()]\n",
    "# 8 df[df['MasVnrType'].isna()] \n",
    "# 8 df[df['MasVnrArea'].isna()]\n",
    "# 37 df[df['BsmtQual'].isna()].shape[0]\n",
    "# 37 df[df['BsmtCond'].isna()].shape[0]\n",
    "# 81 df[df['GarageType'].isna()].shape[0]\n",
    "# 81 df[df['GarageYrBlt'].isna()].shape[0]\n",
    "# 81 df[df['GarageFinish'].isna()].shape[0]\n",
    "#df[df['GarageFinish'].isna()]"
   ]
  },
  {
   "cell_type": "code",
   "execution_count": 11,
   "metadata": {},
   "outputs": [],
   "source": [
    "df.to_csv(\"../data/processed_train.csv\",columns=df.columns)"
   ]
  },
  {
   "cell_type": "code",
   "execution_count": 6,
   "metadata": {},
   "outputs": [
    {
     "name": "stdout",
     "output_type": "stream",
     "text": [
      "0       NaN\n",
      "1       NaN\n",
      "2       NaN\n",
      "3       NaN\n",
      "4       NaN\n",
      "       ... \n",
      "1454    NaN\n",
      "1455    NaN\n",
      "1456    NaN\n",
      "1457    NaN\n",
      "1458    NaN\n",
      "Name: PoolQC, Length: 1452, dtype: object\n"
     ]
    }
   ],
   "source": [
    "df2 = pd.read_csv(\"../data/processed_train.csv\")\n",
    "#print(df[df['PoolQC'].isna()])\n",
    "df2 = df2['PoolQC']\n",
    "print(df2[df2.isna()])\n",
    "print()"
   ]
  },
  {
   "cell_type": "code",
   "execution_count": null,
   "metadata": {},
   "outputs": [],
   "source": [
    "# df.drop('Unnamed: 0',axis =1,inplace=True)\n",
    "\n",
    "\n",
    "# nas = []\n",
    "# for idx,col in enumerate(df.isnull().sum()):\n",
    "#     if col != 0:\n",
    "#         nas.append(df.isnull().sum().index[idx])\n",
    "\n",
    "\n",
    "\n",
    "# for col in df:\n",
    "#     if is_string_dtype(df[col]) and (col not in nas):\n",
    "#         nas.append(col)\n",
    "\n",
    "# new_df = pd.get_dummies(df,columns=nas,dummy_na=True)\n",
    "# new_df.drop(\"Id\", axis= 1 ,inplace=True)\n",
    "# new_df.to_pickle('final_train.pkl')\n"
   ]
  },
  {
   "cell_type": "code",
   "execution_count": 3,
   "metadata": {},
   "outputs": [
    {
     "data": {
      "text/plain": [
       "Index(['MSSubClass', 'MSZoning', 'LotFrontage', 'LotArea', 'Street',\n",
       "       'LotShape', 'LandContour', 'Utilities', 'LotConfig', 'LandSlope',\n",
       "       ...\n",
       "       'PoolQC_nan', 'Fence_GdPrv', 'Fence_GdWo', 'Fence_MnPrv', 'Fence_MnWw',\n",
       "       'Fence_nan', 'MiscFeature_Gar2', 'MiscFeature_Othr', 'MiscFeature_Shed',\n",
       "       'MiscFeature_nan'],\n",
       "      dtype='object', length=137)"
      ]
     },
     "execution_count": 3,
     "metadata": {},
     "output_type": "execute_result"
    }
   ],
   "source": [
    "import pandas as pd \n",
    "df = pd.read_pickle(\"../data/final_test.pkl\")\n",
    "df.columns"
   ]
  },
  {
   "cell_type": "code",
   "execution_count": null,
   "metadata": {},
   "outputs": [],
   "source": []
  }
 ],
 "metadata": {
  "kernelspec": {
   "display_name": "Python 3.9.12 ('tf')",
   "language": "python",
   "name": "python3"
  },
  "language_info": {
   "codemirror_mode": {
    "name": "ipython",
    "version": 3
   },
   "file_extension": ".py",
   "mimetype": "text/x-python",
   "name": "python",
   "nbconvert_exporter": "python",
   "pygments_lexer": "ipython3",
   "version": "3.9.12 (main, Apr  4 2022, 05:22:27) [MSC v.1916 64 bit (AMD64)]"
  },
  "orig_nbformat": 4,
  "vscode": {
   "interpreter": {
    "hash": "78ddfc3686b8b7161f2836984651df038ec9a0366954334fc42499f59ad2b3c8"
   }
  }
 },
 "nbformat": 4,
 "nbformat_minor": 2
}
